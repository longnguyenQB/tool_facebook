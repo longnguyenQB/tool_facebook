{
 "cells": [
  {
   "cell_type": "code",
   "execution_count": 1,
   "metadata": {},
   "outputs": [],
   "source": [
    "with open(\"comment_sample.txt\", 'r', encoding=\"utf8\") as f:\n",
    "    modau1 = [word[:-1] for word in f]"
   ]
  },
  {
   "cell_type": "code",
   "execution_count": 3,
   "metadata": {},
   "outputs": [],
   "source": [
    "modau1 = [i.lower() for i in modau1]"
   ]
  },
  {
   "cell_type": "code",
   "execution_count": 5,
   "metadata": {},
   "outputs": [],
   "source": [
    "import unidecode\n",
    "def remove_accent(sentence):\n",
    "    return unidecode.unidecode(sentence)"
   ]
  },
  {
   "cell_type": "code",
   "execution_count": 6,
   "metadata": {},
   "outputs": [],
   "source": [
    "modau1 = [remove_accent(i) for i in modau1]"
   ]
  },
  {
   "cell_type": "code",
   "execution_count": 8,
   "metadata": {},
   "outputs": [],
   "source": [
    "with open('comment_sample.txt', 'w') as f:\n",
    "    for line in modau1:\n",
    "        f.write(f\"{line}\\n\")"
   ]
  },
  {
   "cell_type": "code",
   "execution_count": 4,
   "metadata": {},
   "outputs": [
    {
     "data": {
      "text/plain": [
       "['mẹo hay :v :v :v ',\n",
       " 'thank adm nhé ',\n",
       " 'thời đại ni thì cứ lên shopee mà mua cho nhanh, đi chi cho mệt :v :v :v ',\n",
       " 'oke thanks add:v :v :v ',\n",
       " 'cảm ơn ad, chúc mn năm mới vv ',\n",
       " 'cảm ơn ',\n",
       " 'oke cảm ơn ad nhé ^^ ',\n",
       " 'lên đó mà mua cho rẻ đỡ phải suy nghĩ ',\n",
       " 'mua shopee thì ko biết có bảo hành ko ',\n",
       " 'mua trên ni thì tiện nhưng mà ship hơi lâu ',\n",
       " 'oke nhé ',\n",
       " 'oke, chúc nà con nmvv ',\n",
       " 'hpny, thank ad ',\n",
       " 'k kể đàn ông, đàn bà cũng nhiều người ko biết trả giá :3',\n",
       " 'đàn ông hay đàn bà cũng rứa thôi, chừ đi chợ họ thét mấy trả nấy',\n",
       " 'ảo thật, bữa mua nồi chiên 1tr5 thiệt ',\n",
       " 'trên ni rẻ thiệt, đúng giá ',\n",
       " 'oke mẹo hay, đỡ bị vợ chửi :3',\n",
       " 'oke admin ',\n",
       " 'tip để vợ ko đuổi ra khỏi nhà là đừng mua chi cả :v ',\n",
       " 'mua cho lắm vô rồi vợ chửi cho =))',\n",
       " 'tốt nhất đừng mua, đỡ tốn haha',\n",
       " 'oke cảm ơn ad, mẹo hay haha ',\n",
       " 'kkkkkkkkk đúng thiệt đi mua toàn bị hét giá ',\n",
       " 'giá chợ toàn trên trời, đồ thì toàn đồ tàu ',\n",
       " 'bữa mẹ mua cái máy hút bụi, họ lừa cho 3tr cũng mua, sau lên shopee kiểm tra thì giá chỉ 1tr5 :v ',\n",
       " 'mẹo hay dành cho cả nam và nữ <3 ',\n",
       " 'mẹo ni ko chỉ dành cho nam mô, nữ cũng bị lừa đầy ',\n",
       " 'mình nói ba mẹ cứ lên shopee mà mua cho nhanh, trả giá sinh mệt',\n",
       " 'mẹo hay :v :v :v',\n",
       " 'thank adm nhé <3',\n",
       " 'thời đại ni thì cứ lên shopee mà mua, đi chi cho mệt xác',\n",
       " 'oke thanks add <3',\n",
       " 'cảm ơn ad, chúc mn năm mới vv  <3',\n",
       " 'cảm ơn ad nhé',\n",
       " 'oke cảm ơn ad nhé !!!  ',\n",
       " 'lên đó mà mua cho rẻ đỡ phải suy nghĩ cho dọc',\n",
       " 'mua shopee thì ko biết có bảo hành ko mn???',\n",
       " 'mua trên ni thì tiện nhưng mà ship hơi lâu đó nghe',\n",
       " 'hpny, thank ad !!!!!',\n",
       " 'k kể đàn ông mô, đàn bà cũng nhiều người ko biết trả giá mô :3 :3 :3',\n",
       " 'đàn ông hay đàn bà cũng chịu, đi chợ họ thét mấy trả nấy thôi :v',\n",
       " 'ảo thật, bữa mua cái bếp nướng 1tr5 thiệt ',\n",
       " 'trên ni rẻ thiệt, đúng giá, đỡ phải đắn đo, mua về còn tiếc  ',\n",
       " 'oke mẹo đó đỡ bị vợ chửi kkkkkkk',\n",
       " 'để vợ ko đuổi ra khỏi nhà là đừng mua chi cả nhé máya a :v ',\n",
       " 'mua cho lắm vô rồi vợ lại chửi cho =))',\n",
       " 'theo mình tốt nhất đừng mua, đỡ tốn tiền kkkkkkkkkkkkk',\n",
       " 'oke cảm ơn ad, mẹo hay haha nhưng mà ko có tiền mua',\n",
       " 'kkkkkkkkk đúng thiệt đi mua toàn bị hét giá, may mà tết năm ni ko cso tiền mua',\n",
       " 'giá chợ thì toàn trên trời, toàn đồ tàu thô']"
      ]
     },
     "execution_count": 4,
     "metadata": {},
     "output_type": "execute_result"
    }
   ],
   "source": [
    "modau1"
   ]
  },
  {
   "cell_type": "code",
   "execution_count": 31,
   "metadata": {},
   "outputs": [],
   "source": [
    "modau2 = ['ê mày hủy kb t à? sao t nt ko được hè?',\n",
    " 'hủy kb t à m? sao tìm zalo m k thấy nửa?',\n",
    " 'bạn iu ơi hủy kb t à?',\n",
    " 'alo bạn iu sao hủy kb thế?',\n",
    " 'zalo bị sao mà tự nhiên ko thấy m nửa',\n",
    " 'ê zalo bị sao à? tự nhiên hủy kb thế?',\n",
    " 'tự nhiên hủy kết bạn tau thế mày?',\n",
    " 'ủa sao hủy kb?',\n",
    " 'vì sao hủy kb t à?',\n",
    " 'hủy kb t à hay sao ko tìm được m?',\n",
    " 'zalo bị ngáo à, sao hủy kb t thế?',\n",
    " 'ơ tự nhiên hủy kb t thế?',\n",
    " 'ủa tự nhiên hủy kb r?']"
   ]
  },
  {
   "cell_type": "code",
   "execution_count": 33,
   "metadata": {},
   "outputs": [
    {
     "data": {
      "text/plain": [
       "['ê mi hủy kb t à? răng t nt ko được hè?',\n",
       " 'hủy kb t à m? răng tìm zalo m k thấy nửa?',\n",
       " 'bạn iu ơi hủy kb t à?',\n",
       " 'alo bạn iu răng hủy kb rứa?',\n",
       " 'zalo bị răng mà tự nhiên ko thấy m nửa',\n",
       " 'ê zalo bị răng à? tự nhiên hủy kb rứa?',\n",
       " 'tự nhiên hủy kết bạn tau rứa mi?',\n",
       " 'ủa răng hủy kb?',\n",
       " 'vì răng hủy kb t à?',\n",
       " 'hủy kb t à hay răng ko tìm được m?',\n",
       " 'zalo bị ngáo à, răng hủy kb t rứa?',\n",
       " 'ơ tự nhiên hủy kb t rứa?',\n",
       " 'ủa tự nhiên hủy kb r?',\n",
       " 'ê mày hủy kb t à? sao t nt ko được hè?',\n",
       " 'hủy kb t à m? sao tìm zalo m k thấy nửa?',\n",
       " 'bạn iu ơi hủy kb t à?',\n",
       " 'alo bạn iu sao hủy kb thế?',\n",
       " 'zalo bị sao mà tự nhiên ko thấy m nửa',\n",
       " 'ê zalo bị sao à? tự nhiên hủy kb thế?',\n",
       " 'tự nhiên hủy kết bạn tau thế mày?',\n",
       " 'ủa sao hủy kb?',\n",
       " 'vì sao hủy kb t à?',\n",
       " 'hủy kb t à hay sao ko tìm được m?',\n",
       " 'zalo bị ngáo à, sao hủy kb t thế?',\n",
       " 'ơ tự nhiên hủy kb t thế?',\n",
       " 'ủa tự nhiên hủy kb r?']"
      ]
     },
     "execution_count": 33,
     "metadata": {},
     "output_type": "execute_result"
    }
   ],
   "source": [
    "modau1 + modau2"
   ]
  },
  {
   "cell_type": "code",
   "execution_count": 5,
   "metadata": {},
   "outputs": [],
   "source": [
    "mua1 = [\n",
    "    \"mua cho t cái ni trên shopee coi như trả nợ nghe:\",\n",
    "    \"mua cái ni trên shopee coi như trả nợ nhé \",\n",
    "    \"ê mi mua cái ni trên shopee cho t với, đang hết tiền huhu\",\n",
    "    \"ê mua cái ni cho t trên shopee với mi, 17 có lương tháng 13 t trả lại cho: \",\n",
    "    \"mua đồ shopee ni cho t với, 17 có lương 13 t trả \"\n",
    "    \"ê tau ưng đồ ni quá, mua cho t với huhu, có lường t trả: \",\n",
    "    \"đồ ni đẹp quá mi, mai sale rồi mua cho t với: \",\n",
    "    \"ê mua cho t đồ ni trên shopee với, mai sale rồi \"\n",
    "]"
   ]
  },
  {
   "cell_type": "code",
   "execution_count": 17,
   "metadata": {},
   "outputs": [],
   "source": [
    "mua2 = [\n",
    "        \"mua cho tớ cái này trên shopee coi như trả nợ nghe\",\n",
    "        \"mua cái này trên shopee coi như trả nợ nhé \",\n",
    "        \"ê mi mua cái này trên shopee cho tớ với, đang hếtớ tiền huhu\",\n",
    "        \"ê mua cái này cho tớ trên shopee với mi, 17 có lương tháng 13 tớ trả lại cho \",\n",
    "        \"mua đồ shopee này cho tớ với, 17 có lương 13 tớ trả \",\n",
    "        \"ê tau ưng đồ này quá, mua cho tớ với huhu, có lường tớ trả \",\n",
    "        \"đồ này đẹp quá mi, mai sale rồi mua cho tớ với \",\n",
    "        \"ê mua cho tớ đồ này trên shopee với, mai sale rồi \"\n",
    "]"
   ]
  },
  {
   "cell_type": "code",
   "execution_count": 36,
   "metadata": {},
   "outputs": [],
   "source": [
    "mua3 = [\n",
    "    \"ê con Linh hắn mua cái ni trên shopee rẻ vãi, hôm qua t mua ở quán lỗ gần 1tr cay vãi \",\n",
    "    \"ê con Hương nó mua cái ni trên shopee rẻ vãi, hôm qua t mua ở quán lỗ gần 500 cay vãi \",\n",
    "    \"hôm qua t mua ở quán lỗ gần 200 so với con Mai hắn mua trên shopee, cay vãi \",\n",
    "    \"ê con Linh hắn mua cái ni trên shopee rẻ vãi, hôm qua t mua ở quán lỗ gần 1tr cay vãi \",\n",
    "    \"ê con Linh hắn mua cái ni trên shopee rẻ vãi, hôm qua t mua ở quán lỗ gần 1tr cay vãi \",\n",
    "    \"ê con Linh hắn mua cái ni trên shopee rẻ vãi, hôm qua t mua ở quán lỗ gần 1tr cay vãi \",\n",
    "    \"ê con Linh hắn mua cái ni trên shopee rẻ vãi, hôm qua t mua ở quán lỗ gần 1tr cay vãi \",\n",
    "    \"ê con Linh hắn mua cái ni trên shopee rẻ vãi, hôm qua t mua ở quán lỗ gần 1tr cay vãi \",\n",
    "    \"ê con Linh hắn mua cái ni trên shopee rẻ vãi, hôm qua t mua ở quán lỗ gần 1tr cay vãi \",\n",
    "    \"ê con Linh hắn mua cái ni trên shopee rẻ vãi, hôm qua t mua ở quán lỗ gần 1tr cay vãi \",\n",
    "    \"ê con Linh hắn mua cái ni trên shopee rẻ vãi, hôm qua t mua ở quán lỗ gần 1tr cay vãi \",\n",
    "    \"ê con Linh hắn mua cái ni trên shopee rẻ vãi, hôm qua t mua ở quán lỗ gần 1tr cay vãi \",\n",
    "    \"ê con Linh hắn mua cái ni trên shopee rẻ vãi, hôm qua t mua ở quán lỗ gần 1tr cay vãi \",\n",
    "    \"ê con Linh hắn mua cái ni trên shopee rẻ vãi, hôm qua t mua ở quán lỗ gần 1tr cay vãi \",\n",
    "    \n",
    "]"
   ]
  },
  {
   "cell_type": "code",
   "execution_count": 39,
   "metadata": {},
   "outputs": [],
   "source": [
    "names = [\"Linh\", \"Hương\", \"Cúc\", \"Loan\", \"Lệ\", \"Thúy\", \"Trang\", \"Hoài\", \"Nga\", \"Thanh\", \"Trinh\", \"Phượng\", \"Thảo\", \"Nhàn\"]\n"
   ]
  },
  {
   "cell_type": "code",
   "execution_count": 50,
   "metadata": {},
   "outputs": [],
   "source": [
    "mua3 = []\n",
    "for name in names:\n",
    "    for tien in [100,299,300,400,500,600,700,800,900]:\n",
    "        mua3.append(\"ê con \" + name + \" hắn mua cái ni trên shopee rẻ vãi, hôm qua t mua ở quán lỗ gần \" + str(tien) +\" cay vãi\")\n",
    "        mua3.append(\"hôm qua t mua ở quán lỗ gần \" + str(tien) + \" so với con \" + name + \" hắn mua trên shopee, cay vãi\")\n",
    "        mua3.append(\"ê cái này ko ngờ rẻ rứa, con \" + name + \" cứ nói đắt lắm :v\")"
   ]
  },
  {
   "cell_type": "code",
   "execution_count": 54,
   "metadata": {},
   "outputs": [],
   "source": [
    "mua = mua3 + mua1 + mua2"
   ]
  },
  {
   "cell_type": "code",
   "execution_count": null,
   "metadata": {},
   "outputs": [],
   "source": [
    "with open(\"spam_zalo.txt\", 'w', encoding=\"utf8\") as f:\n",
    "    modau1 = [word[:-1] for word in f]"
   ]
  },
  {
   "cell_type": "code",
   "execution_count": null,
   "metadata": {},
   "outputs": [],
   "source": [
    "with open('spam_zalo.txt', 'w') as f:\n",
    "    for line in mua:\n",
    "        f.write(f\"{line}\\n\")"
   ]
  },
  {
   "cell_type": "code",
   "execution_count": 18,
   "metadata": {},
   "outputs": [],
   "source": [
    "icon = [\":b \", \"b-) \", \":') \",\":d \", \":-(( \", \"/-heart \", \"_()_ \", \":-bye \", \":v \"]"
   ]
  },
  {
   "cell_type": "code",
   "execution_count": 19,
   "metadata": {},
   "outputs": [],
   "source": [
    "import random"
   ]
  },
  {
   "cell_type": "code",
   "execution_count": 22,
   "metadata": {},
   "outputs": [],
   "source": [
    "mua = []"
   ]
  },
  {
   "cell_type": "code",
   "execution_count": 23,
   "metadata": {},
   "outputs": [],
   "source": [
    "for i in range(len(mua1)):\n",
    "    for j in icon:\n",
    "        mua.append(mua1[i] + j*random.choice(range(2,5)) + \" : \")\n",
    "        mua.append(mua2[i] + j*random.choice(range(2,5)) + \" : \")\n",
    "        "
   ]
  },
  {
   "cell_type": "code",
   "execution_count": 25,
   "metadata": {},
   "outputs": [
    {
     "data": {
      "text/plain": [
       "126"
      ]
     },
     "execution_count": 25,
     "metadata": {},
     "output_type": "execute_result"
    }
   ],
   "source": [
    "len(mua)"
   ]
  },
  {
   "cell_type": "code",
   "execution_count": 29,
   "metadata": {},
   "outputs": [
    {
     "data": {
      "text/plain": [
       "[':b :b :b ',\n",
       " 'b-) b-) b-) b-) ',\n",
       " \":') :') :') :') \",\n",
       " ':d :d :d :d ',\n",
       " ':-(( :-(( ',\n",
       " '/-heart /-heart ',\n",
       " '_()_ _()_ ',\n",
       " ':-bye :-bye :-bye ',\n",
       " ':v :v :v :v ']"
      ]
     },
     "execution_count": 29,
     "metadata": {},
     "output_type": "execute_result"
    }
   ],
   "source": [
    "[j*random.choice(range(2,5)) for j in icon]"
   ]
  },
  {
   "cell_type": "code",
   "execution_count": null,
   "metadata": {},
   "outputs": [],
   "source": []
  }
 ],
 "metadata": {
  "kernelspec": {
   "display_name": "base",
   "language": "python",
   "name": "python3"
  },
  "language_info": {
   "codemirror_mode": {
    "name": "ipython",
    "version": 3
   },
   "file_extension": ".py",
   "mimetype": "text/x-python",
   "name": "python",
   "nbconvert_exporter": "python",
   "pygments_lexer": "ipython3",
   "version": "3.9.12"
  },
  "orig_nbformat": 4,
  "vscode": {
   "interpreter": {
    "hash": "2f155fbeb9494e5ce992090b8427abe3542dae7719d8ea0d05cb0b78608edd18"
   }
  }
 },
 "nbformat": 4,
 "nbformat_minor": 2
}
